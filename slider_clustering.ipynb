{
 "cells": [
  {
   "cell_type": "markdown",
   "id": "b58338e8-9984-4cd0-bca5-03a7ff3806e9",
   "metadata": {},
   "source": [
    "# Clustering SLIDER Machine"
   ]
  },
  {
   "cell_type": "markdown",
   "id": "5d38540f-b586-40e3-9e53-0cfeb218cb88",
   "metadata": {},
   "source": [
    "We want to determine the abnormal and normal sound waves based on the features of a machine.\n",
    "For the pump machine cluster the abnormal and normal sounds based on features such as \n",
    "- amp_mean\n",
    "- spec_roll_mean\n",
    "- melspec_std"
   ]
  },
  {
   "cell_type": "code",
   "execution_count": 1,
   "id": "b7c363ba-a455-4920-ab37-7697ba122b5a",
   "metadata": {},
   "outputs": [],
   "source": [
    "# Import all the necessary libraries.\n",
    "\n",
    "import pandas as pd\n",
    "import numpy as np\n",
    "import seaborn as sns\n",
    "import matplotlib.pyplot as plt\n",
    "import matplotlib.cm as cm\n",
    "%matplotlib inline\n",
    "from sklearn.metrics import silhouette_samples, silhouette_score\n",
    "from sklearn.metrics.cluster import rand_score\n",
    "\n",
    "from sklearn.cluster import KMeans"
   ]
  },
  {
   "cell_type": "markdown",
   "id": "7672c1b6-cef3-4f96-afb3-ec41d9b19f52",
   "metadata": {},
   "source": [
    "\n",
    "I will be using the csv file of pump features extracted in the previous project. \n",
    "https://github.com/UjjwalKandel2000/Machine-conditions-monitoring\n",
    "Read the csv file and check the correlatiion with respect to `class` column. Since we have labelled data clustering the data based on the correlation with respect to class can be helpful."
   ]
  },
  {
   "cell_type": "code",
   "execution_count": 2,
   "id": "f6cb853b-ef07-43fb-a631-5c378962c9e1",
   "metadata": {},
   "outputs": [
    {
     "data": {
      "text/plain": [
       "class             1.000000\n",
       "amp_mean          0.519006\n",
       "spec_roll_mean    0.472774\n",
       "melspec_std       0.465831\n",
       "spec_cent_mean    0.459535\n",
       "y_std             0.451597\n",
       "rms_mean          0.431885\n",
       "melspec_mean      0.423381\n",
       "y_max             0.379127\n",
       "zcr_mean          0.329398\n",
       "flat_mean         0.278730\n",
       "flat_max          0.246673\n",
       "zcr_min           0.196231\n",
       "zcr_max           0.182205\n",
       "spec_cent_min     0.152008\n",
       "spec_roll_min     0.117988\n",
       "y_mean           -0.007646\n",
       "amp_min          -0.019480\n",
       "y_min            -0.412523\n",
       "Name: class, dtype: float64"
      ]
     },
     "execution_count": 2,
     "metadata": {},
     "output_type": "execute_result"
    }
   ],
   "source": [
    "df = pd.read_csv(\"dataset/slider_features.csv\")\n",
    "correlation = df.corr()\n",
    "correlation['class'].sort_values(ascending = False)"
   ]
  },
  {
   "cell_type": "markdown",
   "id": "72376556-df04-4b51-ad22-3c042cb744a9",
   "metadata": {},
   "source": [
    "Based on the above correlation data we can extract those columns and create a model that gives good results. Create another dataframe with the required features of the sound wave that are necessary in labelling the data as `Normal / Abnormal`"
   ]
  },
  {
   "cell_type": "code",
   "execution_count": 3,
   "id": "4389f76c-34fb-4fa4-8195-6bb666fe4aa7",
   "metadata": {},
   "outputs": [
    {
     "data": {
      "text/html": [
       "<div>\n",
       "<style scoped>\n",
       "    .dataframe tbody tr th:only-of-type {\n",
       "        vertical-align: middle;\n",
       "    }\n",
       "\n",
       "    .dataframe tbody tr th {\n",
       "        vertical-align: top;\n",
       "    }\n",
       "\n",
       "    .dataframe thead th {\n",
       "        text-align: right;\n",
       "    }\n",
       "</style>\n",
       "<table border=\"1\" class=\"dataframe\">\n",
       "  <thead>\n",
       "    <tr style=\"text-align: right;\">\n",
       "      <th></th>\n",
       "      <th>amp_mean</th>\n",
       "      <th>spec_roll_mean</th>\n",
       "      <th>melspec_std</th>\n",
       "      <th>class</th>\n",
       "    </tr>\n",
       "  </thead>\n",
       "  <tbody>\n",
       "    <tr>\n",
       "      <th>0</th>\n",
       "      <td>0.013499</td>\n",
       "      <td>3214.092862</td>\n",
       "      <td>0.029762</td>\n",
       "      <td>0</td>\n",
       "    </tr>\n",
       "    <tr>\n",
       "      <th>1</th>\n",
       "      <td>0.014137</td>\n",
       "      <td>2035.462247</td>\n",
       "      <td>0.024763</td>\n",
       "      <td>0</td>\n",
       "    </tr>\n",
       "    <tr>\n",
       "      <th>2</th>\n",
       "      <td>0.015400</td>\n",
       "      <td>2356.461853</td>\n",
       "      <td>0.028967</td>\n",
       "      <td>0</td>\n",
       "    </tr>\n",
       "    <tr>\n",
       "      <th>3</th>\n",
       "      <td>0.014580</td>\n",
       "      <td>3284.712775</td>\n",
       "      <td>0.029873</td>\n",
       "      <td>0</td>\n",
       "    </tr>\n",
       "    <tr>\n",
       "      <th>4</th>\n",
       "      <td>0.015175</td>\n",
       "      <td>1914.206832</td>\n",
       "      <td>0.029198</td>\n",
       "      <td>0</td>\n",
       "    </tr>\n",
       "  </tbody>\n",
       "</table>\n",
       "</div>"
      ],
      "text/plain": [
       "   amp_mean  spec_roll_mean  melspec_std  class\n",
       "0  0.013499     3214.092862     0.029762      0\n",
       "1  0.014137     2035.462247     0.024763      0\n",
       "2  0.015400     2356.461853     0.028967      0\n",
       "3  0.014580     3284.712775     0.029873      0\n",
       "4  0.015175     1914.206832     0.029198      0"
      ]
     },
     "execution_count": 3,
     "metadata": {},
     "output_type": "execute_result"
    }
   ],
   "source": [
    "df1 = df.filter(['amp_mean','spec_roll_mean','melspec_std','class'],axis=1)\n",
    "df1.head()"
   ]
  },
  {
   "cell_type": "code",
   "execution_count": 4,
   "id": "9564fd76-dbd6-4960-a926-5ef45aa4b55e",
   "metadata": {},
   "outputs": [
    {
     "data": {
      "image/png": "[encoded data removed]",
      "text/plain": [
       "<Figure size 432x288 with 1 Axes>"
      ]
     },
     "metadata": {
      "needs_background": "light"
     },
     "output_type": "display_data"
    }
   ],
   "source": [
    "# Select all the columns except the column ' class'\n",
    "X = df1.iloc[:,:-1].values\n",
    "\n",
    "#using the elbow method to find the optimal number of clusters\n",
    "wcss=[]\n",
    "for i in range(1,11):\n",
    "    kmeans=KMeans(n_clusters=i, init='k-means++',random_state=0)\n",
    "    kmeans.fit(X)\n",
    "    wcss.append(kmeans.inertia_)\n",
    "\n",
    "plt.plot(range(1,11),wcss)\n",
    "plt.title('The Elbow Method')\n",
    "plt.xlabel('Number of Clusters')\n",
    "plt.ylabel('WCSS')\n",
    "plt.show()"
   ]
  },
  {
   "cell_type": "code",
   "execution_count": 5,
   "id": "4e4a6fac-9e9a-47e6-95a3-e856ee1919ed",
   "metadata": {},
   "outputs": [
    {
     "data": {
      "image/png": "[encoded data removed]",
      "text/plain": [
       "<Figure size 432x288 with 1 Axes>"
      ]
     },
     "metadata": {
      "needs_background": "light"
     },
     "output_type": "display_data"
    }
   ],
   "source": [
    "#Applying k-means to the mall dataset\n",
    "kmeans = KMeans(n_clusters=2, init=\"k-means++\", max_iter=300, n_init=10, random_state=42)\n",
    "labels = kmeans.fit_predict(X)\n",
    "\n",
    "#Visualising the clusters\n",
    "plt.scatter(X[labels == 0, 0], X[labels == 0, 1], s=50,c='blue',label='Normal')\n",
    "plt.scatter(X[labels == 1, 0], X[labels == 1, 1], s=50,c='red',label='Abnormal')\n",
    "#plt.scatter(X[labels == 2, 0], X[labels == 2, 1], s=50,c='cyan',label='Transition')\n",
    "plt.title('Cluster of sounds')\n",
    "\n",
    "plt.legend()\n",
    "plt.show()"
   ]
  },
  {
   "cell_type": "code",
   "execution_count": 6,
   "id": "bd6bfb21-dc33-4929-8509-2c660898337d",
   "metadata": {},
   "outputs": [
    {
     "data": {
      "text/plain": [
       "0.571195880440243"
      ]
     },
     "execution_count": 6,
     "metadata": {},
     "output_type": "execute_result"
    }
   ],
   "source": [
    "from sklearn.metrics.cluster import rand_score\n",
    "rand_score(labels, df1['class'])"
   ]
  },
  {
   "cell_type": "code",
   "execution_count": 7,
   "id": "ad5ba911-d46a-43f7-bd57-604f24729293",
   "metadata": {},
   "outputs": [
    {
     "data": {
      "text/plain": [
       "0    3204\n",
       "1     890\n",
       "Name: class, dtype: int64"
      ]
     },
     "execution_count": 7,
     "metadata": {},
     "output_type": "execute_result"
    }
   ],
   "source": [
    "df1['class'].value_counts()"
   ]
  },
  {
   "cell_type": "code",
   "execution_count": 8,
   "id": "26880485-d613-4139-9cb2-4c1cbfacfc50",
   "metadata": {},
   "outputs": [
    {
     "data": {
      "text/plain": [
       "array([[   0, 1882],\n",
       "       [   1, 2212]])"
      ]
     },
     "execution_count": 8,
     "metadata": {},
     "output_type": "execute_result"
    }
   ],
   "source": [
    "(unique, counts) = np.unique(labels, return_counts=True)\n",
    "frequencies = np.asarray((unique, counts)).T\n",
    "frequencies"
   ]
  },
  {
   "cell_type": "markdown",
   "id": "6bd3d731-146f-406f-8db0-708ee1395d74",
   "metadata": {},
   "source": [
    "## DBSCAN"
   ]
  },
  {
   "cell_type": "code",
   "execution_count": 9,
   "id": "ba42fc36-dde1-4a2f-9c63-fcfdd2e317ba",
   "metadata": {},
   "outputs": [
    {
     "name": "stdout",
     "output_type": "stream",
     "text": [
      "Estimated number of clusters: 3\n",
      "Estimated number of noise points: 130\n",
      "Homogeneity: 0.410\n",
      "Completeness: 0.393\n",
      "V-measure: 0.402\n",
      "Adjusted Rand Index: 0.561\n",
      "Adjusted Mutual Information: 0.401\n",
      "Silhouette Coefficient: 0.440\n"
     ]
    },
    {
     "data": {
      "image/png": "[encoded data removed]",
      "text/plain": [
       "<Figure size 432x288 with 1 Axes>"
      ]
     },
     "metadata": {
      "needs_background": "light"
     },
     "output_type": "display_data"
    }
   ],
   "source": [
    "import numpy as np\n",
    "\n",
    "from sklearn.cluster import DBSCAN\n",
    "from sklearn import metrics\n",
    "\n",
    "from sklearn.preprocessing import StandardScaler\n",
    "\n",
    "X = StandardScaler().fit_transform(X)\n",
    "\n",
    "# #############################################################################\n",
    "# Compute DBSCAN\n",
    "db = DBSCAN(eps=0.5, min_samples=40).fit(X)\n",
    "core_samples_mask = np.zeros_like(db.labels_, dtype=bool)\n",
    "core_samples_mask[db.core_sample_indices_] = True\n",
    "labels_ = db.labels_\n",
    "\n",
    "# Number of clusters in labels, ignoring noise if present.\n",
    "n_clusters_ = len(set(labels_)) - (1 if -1 in labels_ else 0)\n",
    "n_noise_ = list(labels_).count(-1)\n",
    "\n",
    "print(\"Estimated number of clusters: %d\" % n_clusters_)\n",
    "print(\"Estimated number of noise points: %d\" % n_noise_)\n",
    "print(\"Homogeneity: %0.3f\" % metrics.homogeneity_score(df['class'], labels_))\n",
    "print(\"Completeness: %0.3f\" % metrics.completeness_score(df['class'], labels_))\n",
    "print(\"V-measure: %0.3f\" % metrics.v_measure_score(df['class'], labels_))\n",
    "print(\"Adjusted Rand Index: %0.3f\" % metrics.adjusted_rand_score(df['class'], labels_))\n",
    "print(\n",
    "    \"Adjusted Mutual Information: %0.3f\"\n",
    "    % metrics.adjusted_mutual_info_score(df['class'], labels_)\n",
    ")\n",
    "print(\"Silhouette Coefficient: %0.3f\" % metrics.silhouette_score(X, labels_))\n",
    "\n",
    "# #############################################################################\n",
    "# Plot result\n",
    "import matplotlib.pyplot as plt\n",
    "\n",
    "# Black removed and is used for noise instead.\n",
    "unique_labels = set(labels_)\n",
    "colors = [plt.cm.Spectral(each) for each in np.linspace(0, 1, len(unique_labels))]\n",
    "for k, col in zip(unique_labels, colors):\n",
    "    if k == -1:\n",
    "        # Black used for noise.\n",
    "        col = [0, 0, 0, 1]\n",
    "\n",
    "    class_member_mask = labels_ == k\n",
    "\n",
    "    xy = X[class_member_mask & core_samples_mask]\n",
    "    plt.plot(\n",
    "        xy[:, 0],\n",
    "        xy[:, 1],\n",
    "        \"o\",\n",
    "        markerfacecolor=tuple(col),\n",
    "        markeredgecolor=\"k\",\n",
    "        markersize=14,\n",
    "    )\n",
    "\n",
    "    xy = X[class_member_mask & ~core_samples_mask]\n",
    "    plt.plot(\n",
    "        xy[:, 0],\n",
    "        xy[:, 1],\n",
    "        \"o\",\n",
    "        markerfacecolor=tuple(col),\n",
    "        markeredgecolor=\"k\",\n",
    "        markersize=6,\n",
    "    )\n",
    "\n",
    "plt.title(\"Estimated number of clusters: %d\" % n_clusters_)\n",
    "plt.show()\n"
   ]
  },
  {
   "cell_type": "code",
   "execution_count": 10,
   "id": "b9e0162e-84d8-4d1b-a970-4d64fdc5f587",
   "metadata": {},
   "outputs": [
    {
     "data": {
      "text/plain": [
       "array([[  -1,  130],\n",
       "       [   0, 3531],\n",
       "       [   1,  253],\n",
       "       [   2,  180]])"
      ]
     },
     "execution_count": 10,
     "metadata": {},
     "output_type": "execute_result"
    }
   ],
   "source": [
    "(unique, counts) = np.unique(labels_, return_counts=True)\n",
    "\n",
    "frequencies = np.asarray((unique, counts)).T\n",
    "frequencies"
   ]
  },
  {
   "cell_type": "code",
   "execution_count": 11,
   "id": "673fe7b0-5101-4058-8fac-a28c85c8e1ea",
   "metadata": {},
   "outputs": [],
   "source": [
    "label1 = pd.DataFrame(labels_,columns=['class'])\n",
    "label1[\"class\"].replace({-1:1,2:1}, inplace=True)"
   ]
  },
  {
   "cell_type": "code",
   "execution_count": 12,
   "id": "f45351fb-e44d-4090-96ee-3ae41b953531",
   "metadata": {},
   "outputs": [
    {
     "data": {
      "text/plain": [
       "0.8240344095528832"
      ]
     },
     "execution_count": 12,
     "metadata": {},
     "output_type": "execute_result"
    }
   ],
   "source": [
    "from sklearn.metrics.cluster import rand_score\n",
    "rand_score(labels_, df1['class'])"
   ]
  },
  {
   "cell_type": "markdown",
   "id": "3002a84d-04d5-4ef8-9e75-46c81861b307",
   "metadata": {},
   "source": [
    "### Conclusion\n",
    "With K-means clustering algorithtm the rand_score is 85.29% \n",
    "\n",
    "and DMSCAN algorithm the rand score is 82.40% for the pump machine model. "
   ]
  }
 ],
 "metadata": {
  "kernelspec": {
   "display_name": "Python 3 (ipykernel)",
   "language": "python",
   "name": "python3"
  },
  "language_info": {
   "codemirror_mode": {
    "name": "ipython",
    "version": 3
   },
   "file_extension": ".py",
   "mimetype": "text/x-python",
   "name": "python",
   "nbconvert_exporter": "python",
   "pygments_lexer": "ipython3",
   "version": "3.8.12"
  }
 },
 "nbformat": 4,
 "nbformat_minor": 5
}
