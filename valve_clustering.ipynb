{
 "cells": [
  {
   "cell_type": "markdown",
   "id": "751d9284-ddf4-4348-9d31-59c16dd16799",
   "metadata": {},
   "source": [
    "# Clustering VALVE machine"
   ]
  },
  {
   "cell_type": "markdown",
   "id": "0e3aefa7-9da3-45a2-a573-5063c2ab79dd",
   "metadata": {},
   "source": [
    "We want to determine the abnormal and normal sound waves based on the features of a machine.\n",
    "For the pump machine cluster the abnormal and normal sounds based on features such as \n",
    "- y_max\n",
    "- zcr_max\n",
    "- amp_mean"
   ]
  },
  {
   "cell_type": "code",
   "execution_count": 21,
   "id": "b553d26b-71fb-46a6-8da8-d707802b08d2",
   "metadata": {},
   "outputs": [],
   "source": [
    "# Import all the necessary libraries.\n",
    "\n",
    "import pandas as pd\n",
    "import numpy as np\n",
    "import seaborn as sns\n",
    "import matplotlib.pyplot as plt\n",
    "import matplotlib.cm as cm\n",
    "%matplotlib inline\n",
    "from sklearn.metrics import silhouette_samples, silhouette_score\n",
    "from sklearn.metrics.cluster import rand_score\n",
    "\n",
    "from sklearn.cluster import KMeans"
   ]
  },
  {
   "cell_type": "code",
   "execution_count": 22,
   "id": "659136cf-708d-4d80-9e97-e684c0b9ec6f",
   "metadata": {},
   "outputs": [
    {
     "data": {
      "text/plain": [
       "class             1.000000\n",
       "y_mean            0.027144\n",
       "y_min             0.026164\n",
       "zcr_min           0.014071\n",
       "spec_roll_min     0.011795\n",
       "spec_cent_min     0.010260\n",
       "zcr_mean          0.008412\n",
       "spec_cent_mean    0.000492\n",
       "spec_roll_mean   -0.002033\n",
       "flat_mean        -0.005123\n",
       "amp_min          -0.005767\n",
       "melspec_std      -0.008701\n",
       "flat_max         -0.009779\n",
       "melspec_mean     -0.029909\n",
       "y_std            -0.032896\n",
       "rms_mean         -0.046125\n",
       "y_max            -0.052506\n",
       "zcr_max          -0.052856\n",
       "amp_mean         -0.084064\n",
       "Name: class, dtype: float64"
      ]
     },
     "execution_count": 22,
     "metadata": {},
     "output_type": "execute_result"
    }
   ],
   "source": [
    "# Import the dataset\n",
    "df = pd.read_csv(\"dataset/valve_features.csv\")\n",
    "correlation = df.corr()\n",
    "correlation['class'].sort_values(ascending = False)"
   ]
  },
  {
   "cell_type": "markdown",
   "id": "479750db-5e92-4f7c-9484-75afa1238de0",
   "metadata": {},
   "source": [
    "Based on the above correlation data we can extract those columns and create a model that gives good results. Create another dataframe with the required features of the sound wave that are necessary in labelling the data as `Normal / Abnormal`"
   ]
  },
  {
   "cell_type": "code",
   "execution_count": 23,
   "id": "90b447d7-a4b3-45cc-b8d9-7d4193d5cd1c",
   "metadata": {},
   "outputs": [
    {
     "data": {
      "text/html": [
       "<div>\n",
       "<style scoped>\n",
       "    .dataframe tbody tr th:only-of-type {\n",
       "        vertical-align: middle;\n",
       "    }\n",
       "\n",
       "    .dataframe tbody tr th {\n",
       "        vertical-align: top;\n",
       "    }\n",
       "\n",
       "    .dataframe thead th {\n",
       "        text-align: right;\n",
       "    }\n",
       "</style>\n",
       "<table border=\"1\" class=\"dataframe\">\n",
       "  <thead>\n",
       "    <tr style=\"text-align: right;\">\n",
       "      <th></th>\n",
       "      <th>y_max</th>\n",
       "      <th>zcr_max</th>\n",
       "      <th>amp_mean</th>\n",
       "      <th>class</th>\n",
       "    </tr>\n",
       "  </thead>\n",
       "  <tbody>\n",
       "    <tr>\n",
       "      <th>0</th>\n",
       "      <td>0.083072</td>\n",
       "      <td>0.198730</td>\n",
       "      <td>0.012551</td>\n",
       "      <td>0</td>\n",
       "    </tr>\n",
       "    <tr>\n",
       "      <th>1</th>\n",
       "      <td>0.091593</td>\n",
       "      <td>0.214355</td>\n",
       "      <td>0.014089</td>\n",
       "      <td>0</td>\n",
       "    </tr>\n",
       "    <tr>\n",
       "      <th>2</th>\n",
       "      <td>0.083659</td>\n",
       "      <td>0.200684</td>\n",
       "      <td>0.015995</td>\n",
       "      <td>0</td>\n",
       "    </tr>\n",
       "    <tr>\n",
       "      <th>3</th>\n",
       "      <td>0.082879</td>\n",
       "      <td>0.197754</td>\n",
       "      <td>0.016069</td>\n",
       "      <td>0</td>\n",
       "    </tr>\n",
       "    <tr>\n",
       "      <th>4</th>\n",
       "      <td>0.075072</td>\n",
       "      <td>0.187500</td>\n",
       "      <td>0.015526</td>\n",
       "      <td>0</td>\n",
       "    </tr>\n",
       "  </tbody>\n",
       "</table>\n",
       "</div>"
      ],
      "text/plain": [
       "      y_max   zcr_max  amp_mean  class\n",
       "0  0.083072  0.198730  0.012551      0\n",
       "1  0.091593  0.214355  0.014089      0\n",
       "2  0.083659  0.200684  0.015995      0\n",
       "3  0.082879  0.197754  0.016069      0\n",
       "4  0.075072  0.187500  0.015526      0"
      ]
     },
     "execution_count": 23,
     "metadata": {},
     "output_type": "execute_result"
    }
   ],
   "source": [
    "df1 = df.filter(['y_max','zcr_max','amp_mean','class'],axis=1)\n",
    "df1.head()"
   ]
  },
  {
   "cell_type": "markdown",
   "id": "2312081b-5eff-46f0-8f5f-53f8b570ce6e",
   "metadata": {},
   "source": [
    "## K-means clustering algorithm"
   ]
  },
  {
   "cell_type": "code",
   "execution_count": 24,
   "id": "8b52c4d1-6641-4a65-b502-dd2ce0ab814f",
   "metadata": {},
   "outputs": [
    {
     "data": {
      "image/png": "[encoded data removed]",
      "text/plain": [
       "<Figure size 432x288 with 1 Axes>"
      ]
     },
     "metadata": {
      "needs_background": "light"
     },
     "output_type": "display_data"
    }
   ],
   "source": [
    "# Select all the columns except the column ' class'\n",
    "X = df1.iloc[:,:-1].values\n",
    "\n",
    "Xname = df1.columns[:-1]\n",
    "X = pd.DataFrame(X,columns=Xname)\n",
    "\n",
    "#using the elbow method to find the optimal number of clusters\n",
    "wcss=[]\n",
    "for i in range(1,11):\n",
    "    kMeans = KMeans(n_clusters= i, init= 'k-means++',max_iter=300,n_init=10,random_state=0)\n",
    "    kMeans.fit(X)\n",
    "    wcss.append(kMeans.inertia_)\n",
    "plt.plot(range(1,11),wcss)\n",
    "plt.title('The Elbow Method')\n",
    "plt.xlabel('Number of clusters')\n",
    "plt.ylabel('WCSS')\n",
    "plt.show()"
   ]
  },
  {
   "cell_type": "code",
   "execution_count": 25,
   "id": "e7b5e8a6-4cd4-4290-8898-be44653f65f3",
   "metadata": {},
   "outputs": [
    {
     "data": {
      "image/png": "[encoded data removed]",
      "text/plain": [
       "<Figure size 432x288 with 1 Axes>"
      ]
     },
     "metadata": {
      "needs_background": "light"
     },
     "output_type": "display_data"
    }
   ],
   "source": [
    "#Applying k-means to the mall dataset\n",
    "kmeans = KMeans(n_clusters=2, init=\"k-means++\", max_iter=300, n_init=10, random_state=0)\n",
    "labels = kmeans.fit_predict(X)\n",
    "\n",
    "#Visualising the clusters\n",
    "plt.scatter(X.values[labels == 0, 0], X.values[labels == 0, 1], s=50,c='blue',label='Normal')\n",
    "plt.scatter(X.values[labels == 1, 0], X.values[labels == 1, 1], s=50,c='red',label='Abnormal')\n",
    "#plt.scatter(X.values[labels == 2, 0], X.values[labels == 2, 1], s=50,c='cyan',label='Transition')\n",
    "plt.title('Cluster of sounds')\n",
    "plt.legend()\n",
    "plt.show()"
   ]
  },
  {
   "cell_type": "code",
   "execution_count": 26,
   "id": "8349cde7-e84c-4d14-baf0-8bde68be0fc6",
   "metadata": {},
   "outputs": [
    {
     "data": {
      "text/plain": [
       "array([[   0, 2145],\n",
       "       [   1, 2025]])"
      ]
     },
     "execution_count": 26,
     "metadata": {},
     "output_type": "execute_result"
    }
   ],
   "source": [
    "# checking the count of unique values\n",
    "(unique, counts) = np.unique(labels, return_counts=True)\n",
    "frequencies = np.asarray((unique, counts)).T\n",
    "frequencies"
   ]
  },
  {
   "cell_type": "code",
   "execution_count": 27,
   "id": "711923d1-8375-454b-a266-8fcecfd73855",
   "metadata": {},
   "outputs": [
    {
     "data": {
      "text/plain": [
       "0.5004931339169489"
      ]
     },
     "execution_count": 27,
     "metadata": {},
     "output_type": "execute_result"
    }
   ],
   "source": [
    "label = pd.DataFrame(labels,columns=['class'])\n",
    "label[\"class\"].replace({2:0}, inplace=True)\n",
    "# Calcuate the score of true labels against the predicted labels.\n",
    "rand_score(label['class'], df1['class'])"
   ]
  },
  {
   "cell_type": "markdown",
   "id": "e6f9f843-c088-43b2-af6b-4d23f1ec1143",
   "metadata": {},
   "source": [
    "## DBSCAN algorithm"
   ]
  },
  {
   "cell_type": "code",
   "execution_count": 107,
   "id": "b8b494be-1b83-44b8-9076-beda906f5921",
   "metadata": {},
   "outputs": [
    {
     "name": "stdout",
     "output_type": "stream",
     "text": [
      "Estimated number of clusters: 1\n",
      "Estimated number of noise points: 427\n",
      "Homogeneity: 0.149\n",
      "Completeness: 0.161\n",
      "V-measure: 0.154\n",
      "Adjusted Rand Index: 0.338\n",
      "Adjusted Mutual Information: 0.154\n",
      "Silhouette Coefficient: 0.357\n"
     ]
    },
    {
     "data": {
      "image/png": "[encoded data removed]",
      "text/plain": [
       "<Figure size 432x288 with 1 Axes>"
      ]
     },
     "metadata": {
      "needs_background": "light"
     },
     "output_type": "display_data"
    }
   ],
   "source": [
    "import numpy as np\n",
    "\n",
    "from sklearn.cluster import DBSCAN\n",
    "from sklearn import metrics\n",
    "\n",
    "from sklearn.preprocessing import StandardScaler\n",
    "\n",
    "X = StandardScaler().fit_transform(X)\n",
    "\n",
    "# #############################################################################\n",
    "# Compute DBSCAN\n",
    "db = DBSCAN(eps=0.6, min_samples=100).fit(X)\n",
    "core_samples_mask = np.zeros_like(db.labels_, dtype=bool)\n",
    "core_samples_mask[db.core_sample_indices_] = True\n",
    "labels_ = db.labels_\n",
    "\n",
    "# Number of clusters in labels, ignoring noise if present.\n",
    "n_clusters_ = len(set(labels_)) - (1 if -1 in labels_ else 0)\n",
    "n_noise_ = list(labels_).count(-1)\n",
    "\n",
    "print(\"Estimated number of clusters: %d\" % n_clusters_)\n",
    "print(\"Estimated number of noise points: %d\" % n_noise_)\n",
    "print(\"Homogeneity: %0.3f\" % metrics.homogeneity_score(df['class'], labels_))\n",
    "print(\"Completeness: %0.3f\" % metrics.completeness_score(df['class'], labels_))\n",
    "print(\"V-measure: %0.3f\" % metrics.v_measure_score(df['class'], labels_))\n",
    "print(\"Adjusted Rand Index: %0.3f\" % metrics.adjusted_rand_score(df['class'], labels_))\n",
    "print(\n",
    "    \"Adjusted Mutual Information: %0.3f\"\n",
    "    % metrics.adjusted_mutual_info_score(df['class'], labels_)\n",
    ")\n",
    "print(\"Silhouette Coefficient: %0.3f\" % metrics.silhouette_score(X, labels_))\n",
    "\n",
    "# #############################################################################\n",
    "# Plot result\n",
    "import matplotlib.pyplot as plt\n",
    "\n",
    "# Black removed and is used for noise instead.\n",
    "unique_labels = set(labels_)\n",
    "colors = [plt.cm.Spectral(each) for each in np.linspace(0, 1, len(unique_labels))]\n",
    "for k, col in zip(unique_labels, colors):\n",
    "    if k == -1:\n",
    "        # Black used for noise.\n",
    "        col = [0, 0, 0, 1]\n",
    "\n",
    "    class_member_mask = labels_ == k\n",
    "\n",
    "    xy = X[class_member_mask & core_samples_mask]\n",
    "    plt.plot(\n",
    "        xy[:, 0],\n",
    "        xy[:, 1],\n",
    "        \"o\",\n",
    "        markerfacecolor=tuple(col),\n",
    "        markeredgecolor=\"k\",\n",
    "        markersize=14,\n",
    "    )\n",
    "\n",
    "    xy = X[class_member_mask & ~core_samples_mask]\n",
    "    plt.plot(\n",
    "        xy[:, 0],\n",
    "        xy[:, 1],\n",
    "        \"o\",\n",
    "        markerfacecolor=tuple(col),\n",
    "        markeredgecolor=\"k\",\n",
    "        markersize=6,\n",
    "    )\n",
    "\n",
    "plt.title(\"Estimated number of clusters: %d\" % n_clusters_)\n",
    "plt.show()\n"
   ]
  },
  {
   "cell_type": "code",
   "execution_count": 109,
   "id": "28f41ec2-3b6a-4784-b4ad-e6b93395cfae",
   "metadata": {},
   "outputs": [
    {
     "data": {
      "text/plain": [
       "array([[  -1,  427],\n",
       "       [   0, 3743]])"
      ]
     },
     "execution_count": 109,
     "metadata": {},
     "output_type": "execute_result"
    }
   ],
   "source": [
    "(unique, counts) = np.unique(labels_, return_counts=True)\n",
    "frequencies = np.asarray((unique, counts)).T\n",
    "frequencies"
   ]
  },
  {
   "cell_type": "code",
   "execution_count": 110,
   "id": "7ea30502-2bb1-4ad8-8b14-628bf89820db",
   "metadata": {},
   "outputs": [],
   "source": [
    "label = pd.DataFrame(labels_,columns=['class'])\n",
    "label[\"class\"].replace({-1:1}, inplace=True)"
   ]
  },
  {
   "cell_type": "code",
   "execution_count": 111,
   "id": "ec30e3d5-77ca-4d81-901a-a083184d07dc",
   "metadata": {},
   "outputs": [
    {
     "data": {
      "text/plain": [
       "0.7932880177028921"
      ]
     },
     "execution_count": 111,
     "metadata": {},
     "output_type": "execute_result"
    }
   ],
   "source": [
    "from sklearn.metrics.cluster import rand_score\n",
    "rand_score(label['class'], df1['class'])"
   ]
  },
  {
   "cell_type": "markdown",
   "id": "39bff829-68da-4753-ad5e-6cb47eb0a835",
   "metadata": {},
   "source": [
    "### Conclusion\n",
    "With K-means clustering algorithm the rand_score is around 50%. \n",
    "\n",
    "and DBSCAN algorithm the rand score is 79.32% for the valve machine model."
   ]
  }
 ],
 "metadata": {
  "kernelspec": {
   "display_name": "Python 3 (ipykernel)",
   "language": "python",
   "name": "python3"
  },
  "language_info": {
   "codemirror_mode": {
    "name": "ipython",
    "version": 3
   },
   "file_extension": ".py",
   "mimetype": "text/x-python",
   "name": "python",
   "nbconvert_exporter": "python",
   "pygments_lexer": "ipython3",
   "version": "3.8.12"
  }
 },
 "nbformat": 4,
 "nbformat_minor": 5
}
